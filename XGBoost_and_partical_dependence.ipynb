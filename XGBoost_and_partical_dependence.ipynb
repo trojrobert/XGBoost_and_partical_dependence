{
 "cells": [
  {
   "cell_type": "code",
   "execution_count": 26,
   "metadata": {},
   "outputs": [],
   "source": [
    "import pandas as pd\n",
    "from sklearn.model_selection import train_test_split\n",
    "from sklearn.preprocessing import Imputer\n",
    "\n",
    "#import data \n",
    "data = pd.read_csv('C:/Users/John Robert/Desktop/100DaysOfMLCode/Decision tree/housing_price_iowa.csv')\n",
    "\n",
    "y = data.SalePrice \n",
    "X = data.drop(['SalePrice'],axis=1).select_dtypes(exclude=['object'])\n",
    "\n",
    "train_X, test_X, train_y, test_y = train_test_split(X, y, test_size=0.25)\n",
    "\n",
    "my_imputer = Imputer()\n",
    "train_X = my_imputer.fit_transform(train_X)\n",
    "test_X = my_imputer.transform(test_X)\n"
   ]
  },
  {
   "cell_type": "code",
   "execution_count": 23,
   "metadata": {},
   "outputs": [
    {
     "name": "stdout",
     "output_type": "stream",
     "text": [
      "Mean Absolute Error : 16275.302868150686\n"
     ]
    }
   ],
   "source": [
    "from xgboost import XGBRegressor\n",
    "from sklearn.metrics import mean_absolute_error \n",
    "#create model \n",
    "my_model = XGBRegressor(n_estimators = 1000,learning_rate =0.05,n_jobs=1)\n",
    "\n",
    "#Fit and train teh model \n",
    "# Add silent=True to avoid printing out updates with each cycle \n",
    "my_model.fit(train_X,train_y, early_stopping_rounds =10 ,eval_set=[(test_X, test_y)], verbose= False)\n",
    "\n",
    "#make predictions \n",
    "predicted_y = my_model.predict(test_X)\n",
    "\n",
    "#Calculate error \n",
    "mae = mean_absolute_error(predicted_y ,test_y) \n",
    "\n",
    "print(\"Mean Absolute Error : {}\".format(mae))"
   ]
  },
  {
   "cell_type": "code",
   "execution_count": 59,
   "metadata": {},
   "outputs": [
    {
     "data": {
      "image/png": "[encoded data removed]",
      "text/plain": [
       "<matplotlib.figure.Figure at 0x29a32b885f8>"
      ]
     },
     "metadata": {},
     "output_type": "display_data"
    }
   ],
   "source": [
    "from sklearn.ensemble import GradientBoostingRegressor\n",
    "from sklearn.ensemble.partial_dependence import partial_dependence, plot_partial_dependence\n",
    "\n",
    "#create model \n",
    "partial_dependence_model = GradientBoostingRegressor(n_estimators=10)\n",
    "\n",
    "#fit the model \n",
    "partial_dependence_model.fit (train_X,train_y)\n",
    "\n",
    "my_plots = plot_partial_dependence(partial_dependence_model,\n",
    "                                   train_X, #raw predictors data \n",
    "                                   features=[0,2], #column numbers of the plots we want to show \n",
    "                                   feature_names = ['MSSubClass','LotFrontage','LotArea'], #labels on graphs\n",
    "                                   grid_resolution=10) #number of values to plot of x axis"
   ]
  },
  {
   "cell_type": "code",
   "execution_count": null,
   "metadata": {},
   "outputs": [],
   "source": []
  },
  {
   "cell_type": "code",
   "execution_count": null,
   "metadata": {},
   "outputs": [],
   "source": []
  }
 ],
 "metadata": {
  "kernelspec": {
   "display_name": "Python 3",
   "language": "python",
   "name": "python3"
  },
  "language_info": {
   "codemirror_mode": {
    "name": "ipython",
    "version": 3
   },
   "file_extension": ".py",
   "mimetype": "text/x-python",
   "name": "python",
   "nbconvert_exporter": "python",
   "pygments_lexer": "ipython3",
   "version": "3.6.4"
  }
 },
 "nbformat": 4,
 "nbformat_minor": 2
}
